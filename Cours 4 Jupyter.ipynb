{
 "cells": [
  {
   "cell_type": "code",
   "execution_count": null,
   "id": "bd8311d9",
   "metadata": {},
   "outputs": [],
   "source": []
  },
  {
   "cell_type": "code",
   "execution_count": null,
   "id": "72b6a785",
   "metadata": {},
   "outputs": [],
   "source": [
    "x = iris.data\n",
    "y = iris.target"
   ]
  },
  {
   "cell_type": "markdown",
   "id": "986be36d",
   "metadata": {},
   "source": [
    "# Classification \n",
    "\n",
    "## Exercice\n",
    "\n",
    "1) Séparer le dataset entre les données d'entrainement et données de test\n",
    "2) Faite tourne le modele de regression logistique"
   ]
  },
  {
   "cell_type": "code",
   "execution_count": null,
   "id": "2f83a985",
   "metadata": {},
   "outputs": [],
   "source": []
  },
  {
   "cell_type": "code",
   "execution_count": null,
   "id": "8136e9dd",
   "metadata": {},
   "outputs": [],
   "source": [
    "from sklearn.dummy import DummyClassifier"
   ]
  },
  {
   "cell_type": "code",
   "execution_count": null,
   "id": "dee825db",
   "metadata": {},
   "outputs": [],
   "source": [
    "dc = DummyClassifier(strategy=\"most_frequent\")"
   ]
  },
  {
   "cell_type": "code",
   "execution_count": null,
   "id": "4d657476",
   "metadata": {},
   "outputs": [],
   "source": []
  },
  {
   "cell_type": "markdown",
   "id": "c3e8ae57",
   "metadata": {},
   "source": [
    "## Rattraper \n"
   ]
  },
  {
   "cell_type": "markdown",
   "id": "8ec0eea6",
   "metadata": {},
   "source": []
  },
  {
   "cell_type": "markdown",
   "id": "3fafa057",
   "metadata": {},
   "source": []
  },
  {
   "cell_type": "markdown",
   "id": "6e11db8b",
   "metadata": {},
   "source": [
    "## Exercice \n",
    "\n",
    "Identifiter et visualiser les images mal classifiées. "
   ]
  },
  {
   "cell_type": "code",
   "execution_count": null,
   "id": "b50c425a",
   "metadata": {},
   "outputs": [],
   "source": [
    "import marimo as mo"
   ]
  },
  {
   "cell_type": "code",
   "execution_count": null,
   "id": "5cb2c34e",
   "metadata": {},
   "outputs": [],
   "source": [
    "mo.md(\"\"\"\n",
    "      **Exercice**:\n",
    "      Identifier et visualiser les images mal classifiées.\"\"\")"
   ]
  }
 ],
 "metadata": {
  "language_info": {
   "name": "python"
  }
 },
 "nbformat": 4,
 "nbformat_minor": 5
}
